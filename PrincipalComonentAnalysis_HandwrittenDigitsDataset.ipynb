{
 "cells": [
  {
   "cell_type": "code",
   "execution_count": 1,
   "metadata": {},
   "outputs": [
    {
     "data": {
      "text/html": [
       "<div>\n",
       "<style scoped>\n",
       "    .dataframe tbody tr th:only-of-type {\n",
       "        vertical-align: middle;\n",
       "    }\n",
       "\n",
       "    .dataframe tbody tr th {\n",
       "        vertical-align: top;\n",
       "    }\n",
       "\n",
       "    .dataframe thead th {\n",
       "        text-align: right;\n",
       "    }\n",
       "</style>\n",
       "<table border=\"1\" class=\"dataframe\">\n",
       "  <thead>\n",
       "    <tr style=\"text-align: right;\">\n",
       "      <th></th>\n",
       "      <th>Column1</th>\n",
       "      <th>Column2</th>\n",
       "      <th>Column3</th>\n",
       "      <th>Column4</th>\n",
       "      <th>Column5</th>\n",
       "      <th>Column6</th>\n",
       "      <th>Column7</th>\n",
       "      <th>Column8</th>\n",
       "      <th>Column9</th>\n",
       "      <th>Column10</th>\n",
       "      <th>...</th>\n",
       "      <th>Column248</th>\n",
       "      <th>Column249</th>\n",
       "      <th>Column250</th>\n",
       "      <th>Column251</th>\n",
       "      <th>Column252</th>\n",
       "      <th>Column253</th>\n",
       "      <th>Column254</th>\n",
       "      <th>Column255</th>\n",
       "      <th>Column256</th>\n",
       "      <th>Column257</th>\n",
       "    </tr>\n",
       "  </thead>\n",
       "  <tbody>\n",
       "    <tr>\n",
       "      <th>0</th>\n",
       "      <td>6.0</td>\n",
       "      <td>-1.0</td>\n",
       "      <td>-1.0</td>\n",
       "      <td>-1.0</td>\n",
       "      <td>-1.000</td>\n",
       "      <td>-1.000</td>\n",
       "      <td>-1.000</td>\n",
       "      <td>-1.000</td>\n",
       "      <td>-0.631</td>\n",
       "      <td>0.862</td>\n",
       "      <td>...</td>\n",
       "      <td>0.304</td>\n",
       "      <td>0.823</td>\n",
       "      <td>1.000</td>\n",
       "      <td>0.482</td>\n",
       "      <td>-0.474</td>\n",
       "      <td>-0.991</td>\n",
       "      <td>-1.000</td>\n",
       "      <td>-1.000</td>\n",
       "      <td>-1.000</td>\n",
       "      <td>-1.0</td>\n",
       "    </tr>\n",
       "    <tr>\n",
       "      <th>1</th>\n",
       "      <td>5.0</td>\n",
       "      <td>-1.0</td>\n",
       "      <td>-1.0</td>\n",
       "      <td>-1.0</td>\n",
       "      <td>-0.813</td>\n",
       "      <td>-0.671</td>\n",
       "      <td>-0.809</td>\n",
       "      <td>-0.887</td>\n",
       "      <td>-0.671</td>\n",
       "      <td>-0.853</td>\n",
       "      <td>...</td>\n",
       "      <td>-0.671</td>\n",
       "      <td>-0.671</td>\n",
       "      <td>-0.033</td>\n",
       "      <td>0.761</td>\n",
       "      <td>0.762</td>\n",
       "      <td>0.126</td>\n",
       "      <td>-0.095</td>\n",
       "      <td>-0.671</td>\n",
       "      <td>-0.828</td>\n",
       "      <td>-1.0</td>\n",
       "    </tr>\n",
       "    <tr>\n",
       "      <th>2</th>\n",
       "      <td>4.0</td>\n",
       "      <td>-1.0</td>\n",
       "      <td>-1.0</td>\n",
       "      <td>-1.0</td>\n",
       "      <td>-1.000</td>\n",
       "      <td>-1.000</td>\n",
       "      <td>-1.000</td>\n",
       "      <td>-1.000</td>\n",
       "      <td>-1.000</td>\n",
       "      <td>-1.000</td>\n",
       "      <td>...</td>\n",
       "      <td>-1.000</td>\n",
       "      <td>-1.000</td>\n",
       "      <td>-1.000</td>\n",
       "      <td>-0.109</td>\n",
       "      <td>1.000</td>\n",
       "      <td>-0.179</td>\n",
       "      <td>-1.000</td>\n",
       "      <td>-1.000</td>\n",
       "      <td>-1.000</td>\n",
       "      <td>-1.0</td>\n",
       "    </tr>\n",
       "    <tr>\n",
       "      <th>3</th>\n",
       "      <td>7.0</td>\n",
       "      <td>-1.0</td>\n",
       "      <td>-1.0</td>\n",
       "      <td>-1.0</td>\n",
       "      <td>-1.000</td>\n",
       "      <td>-1.000</td>\n",
       "      <td>-0.273</td>\n",
       "      <td>0.684</td>\n",
       "      <td>0.960</td>\n",
       "      <td>0.450</td>\n",
       "      <td>...</td>\n",
       "      <td>-0.318</td>\n",
       "      <td>1.000</td>\n",
       "      <td>0.536</td>\n",
       "      <td>-0.987</td>\n",
       "      <td>-1.000</td>\n",
       "      <td>-1.000</td>\n",
       "      <td>-1.000</td>\n",
       "      <td>-1.000</td>\n",
       "      <td>-1.000</td>\n",
       "      <td>-1.0</td>\n",
       "    </tr>\n",
       "    <tr>\n",
       "      <th>4</th>\n",
       "      <td>3.0</td>\n",
       "      <td>-1.0</td>\n",
       "      <td>-1.0</td>\n",
       "      <td>-1.0</td>\n",
       "      <td>-1.000</td>\n",
       "      <td>-1.000</td>\n",
       "      <td>-0.928</td>\n",
       "      <td>-0.204</td>\n",
       "      <td>0.751</td>\n",
       "      <td>0.466</td>\n",
       "      <td>...</td>\n",
       "      <td>0.466</td>\n",
       "      <td>0.639</td>\n",
       "      <td>1.000</td>\n",
       "      <td>1.000</td>\n",
       "      <td>0.791</td>\n",
       "      <td>0.439</td>\n",
       "      <td>-0.199</td>\n",
       "      <td>-0.883</td>\n",
       "      <td>-1.000</td>\n",
       "      <td>-1.0</td>\n",
       "    </tr>\n",
       "  </tbody>\n",
       "</table>\n",
       "<p>5 rows × 257 columns</p>\n",
       "</div>"
      ],
      "text/plain": [
       "   Column1  Column2  Column3  Column4  Column5  Column6  Column7  Column8  \\\n",
       "0      6.0     -1.0     -1.0     -1.0   -1.000   -1.000   -1.000   -1.000   \n",
       "1      5.0     -1.0     -1.0     -1.0   -0.813   -0.671   -0.809   -0.887   \n",
       "2      4.0     -1.0     -1.0     -1.0   -1.000   -1.000   -1.000   -1.000   \n",
       "3      7.0     -1.0     -1.0     -1.0   -1.000   -1.000   -0.273    0.684   \n",
       "4      3.0     -1.0     -1.0     -1.0   -1.000   -1.000   -0.928   -0.204   \n",
       "\n",
       "   Column9  Column10    ...      Column248  Column249  Column250  Column251  \\\n",
       "0   -0.631     0.862    ...          0.304      0.823      1.000      0.482   \n",
       "1   -0.671    -0.853    ...         -0.671     -0.671     -0.033      0.761   \n",
       "2   -1.000    -1.000    ...         -1.000     -1.000     -1.000     -0.109   \n",
       "3    0.960     0.450    ...         -0.318      1.000      0.536     -0.987   \n",
       "4    0.751     0.466    ...          0.466      0.639      1.000      1.000   \n",
       "\n",
       "   Column252  Column253  Column254  Column255  Column256  Column257  \n",
       "0     -0.474     -0.991     -1.000     -1.000     -1.000       -1.0  \n",
       "1      0.762      0.126     -0.095     -0.671     -0.828       -1.0  \n",
       "2      1.000     -0.179     -1.000     -1.000     -1.000       -1.0  \n",
       "3     -1.000     -1.000     -1.000     -1.000     -1.000       -1.0  \n",
       "4      0.791      0.439     -0.199     -0.883     -1.000       -1.0  \n",
       "\n",
       "[5 rows x 257 columns]"
      ]
     },
     "execution_count": 1,
     "metadata": {},
     "output_type": "execute_result"
    }
   ],
   "source": [
    "import pandas as pd\n",
    "\n",
    "dftrain = pd.read_csv('/Users/holliknight/Desktop/Spring 2019 Classes/STATS 760/DigitsDataset_train.csv')\n",
    "dftrain = dftrain.drop(columns=['Column258'])\n",
    "dftrain.head()"
   ]
  },
  {
   "cell_type": "code",
   "execution_count": 2,
   "metadata": {},
   "outputs": [
    {
     "data": {
      "text/html": [
       "<div>\n",
       "<style scoped>\n",
       "    .dataframe tbody tr th:only-of-type {\n",
       "        vertical-align: middle;\n",
       "    }\n",
       "\n",
       "    .dataframe tbody tr th {\n",
       "        vertical-align: top;\n",
       "    }\n",
       "\n",
       "    .dataframe thead th {\n",
       "        text-align: right;\n",
       "    }\n",
       "</style>\n",
       "<table border=\"1\" class=\"dataframe\">\n",
       "  <thead>\n",
       "    <tr style=\"text-align: right;\">\n",
       "      <th></th>\n",
       "      <th>Column1</th>\n",
       "      <th>Column2</th>\n",
       "      <th>Column3</th>\n",
       "      <th>Column4</th>\n",
       "      <th>Column5</th>\n",
       "      <th>Column6</th>\n",
       "      <th>Column7</th>\n",
       "      <th>Column8</th>\n",
       "      <th>Column9</th>\n",
       "      <th>Column10</th>\n",
       "      <th>...</th>\n",
       "      <th>Column248</th>\n",
       "      <th>Column249</th>\n",
       "      <th>Column250</th>\n",
       "      <th>Column251</th>\n",
       "      <th>Column252</th>\n",
       "      <th>Column253</th>\n",
       "      <th>Column254</th>\n",
       "      <th>Column255</th>\n",
       "      <th>Column256</th>\n",
       "      <th>Column257</th>\n",
       "    </tr>\n",
       "  </thead>\n",
       "  <tbody>\n",
       "    <tr>\n",
       "      <th>0</th>\n",
       "      <td>9</td>\n",
       "      <td>-1.0</td>\n",
       "      <td>-1.0</td>\n",
       "      <td>-1.0</td>\n",
       "      <td>-1.000</td>\n",
       "      <td>-1.0</td>\n",
       "      <td>-0.948</td>\n",
       "      <td>-0.561</td>\n",
       "      <td>0.148</td>\n",
       "      <td>0.384</td>\n",
       "      <td>...</td>\n",
       "      <td>-1.000</td>\n",
       "      <td>-0.908</td>\n",
       "      <td>0.430</td>\n",
       "      <td>0.622</td>\n",
       "      <td>-0.973</td>\n",
       "      <td>-1.000</td>\n",
       "      <td>-1.0</td>\n",
       "      <td>-1.0</td>\n",
       "      <td>-1.0</td>\n",
       "      <td>-1.0</td>\n",
       "    </tr>\n",
       "    <tr>\n",
       "      <th>1</th>\n",
       "      <td>6</td>\n",
       "      <td>-1.0</td>\n",
       "      <td>-1.0</td>\n",
       "      <td>-1.0</td>\n",
       "      <td>-1.000</td>\n",
       "      <td>-1.0</td>\n",
       "      <td>-1.000</td>\n",
       "      <td>-1.000</td>\n",
       "      <td>-1.000</td>\n",
       "      <td>-1.000</td>\n",
       "      <td>...</td>\n",
       "      <td>-1.000</td>\n",
       "      <td>-1.000</td>\n",
       "      <td>-1.000</td>\n",
       "      <td>-1.000</td>\n",
       "      <td>-1.000</td>\n",
       "      <td>-1.000</td>\n",
       "      <td>-1.0</td>\n",
       "      <td>-1.0</td>\n",
       "      <td>-1.0</td>\n",
       "      <td>-1.0</td>\n",
       "    </tr>\n",
       "    <tr>\n",
       "      <th>2</th>\n",
       "      <td>3</td>\n",
       "      <td>-1.0</td>\n",
       "      <td>-1.0</td>\n",
       "      <td>-1.0</td>\n",
       "      <td>-0.593</td>\n",
       "      <td>0.7</td>\n",
       "      <td>1.000</td>\n",
       "      <td>1.000</td>\n",
       "      <td>1.000</td>\n",
       "      <td>1.000</td>\n",
       "      <td>...</td>\n",
       "      <td>1.000</td>\n",
       "      <td>0.717</td>\n",
       "      <td>0.333</td>\n",
       "      <td>0.162</td>\n",
       "      <td>-0.393</td>\n",
       "      <td>-1.000</td>\n",
       "      <td>-1.0</td>\n",
       "      <td>-1.0</td>\n",
       "      <td>-1.0</td>\n",
       "      <td>-1.0</td>\n",
       "    </tr>\n",
       "    <tr>\n",
       "      <th>3</th>\n",
       "      <td>6</td>\n",
       "      <td>-1.0</td>\n",
       "      <td>-1.0</td>\n",
       "      <td>-1.0</td>\n",
       "      <td>-1.000</td>\n",
       "      <td>-1.0</td>\n",
       "      <td>-1.000</td>\n",
       "      <td>-1.000</td>\n",
       "      <td>-1.000</td>\n",
       "      <td>-1.000</td>\n",
       "      <td>...</td>\n",
       "      <td>-1.000</td>\n",
       "      <td>-1.000</td>\n",
       "      <td>-1.000</td>\n",
       "      <td>-1.000</td>\n",
       "      <td>-1.000</td>\n",
       "      <td>-1.000</td>\n",
       "      <td>-1.0</td>\n",
       "      <td>-1.0</td>\n",
       "      <td>-1.0</td>\n",
       "      <td>-1.0</td>\n",
       "    </tr>\n",
       "    <tr>\n",
       "      <th>4</th>\n",
       "      <td>6</td>\n",
       "      <td>-1.0</td>\n",
       "      <td>-1.0</td>\n",
       "      <td>-1.0</td>\n",
       "      <td>-1.000</td>\n",
       "      <td>-1.0</td>\n",
       "      <td>-1.000</td>\n",
       "      <td>-1.000</td>\n",
       "      <td>-0.858</td>\n",
       "      <td>-0.106</td>\n",
       "      <td>...</td>\n",
       "      <td>0.901</td>\n",
       "      <td>0.901</td>\n",
       "      <td>0.901</td>\n",
       "      <td>0.290</td>\n",
       "      <td>-0.369</td>\n",
       "      <td>-0.867</td>\n",
       "      <td>-1.0</td>\n",
       "      <td>-1.0</td>\n",
       "      <td>-1.0</td>\n",
       "      <td>-1.0</td>\n",
       "    </tr>\n",
       "  </tbody>\n",
       "</table>\n",
       "<p>5 rows × 257 columns</p>\n",
       "</div>"
      ],
      "text/plain": [
       "   Column1  Column2  Column3  Column4  Column5  Column6  Column7  Column8  \\\n",
       "0        9     -1.0     -1.0     -1.0   -1.000     -1.0   -0.948   -0.561   \n",
       "1        6     -1.0     -1.0     -1.0   -1.000     -1.0   -1.000   -1.000   \n",
       "2        3     -1.0     -1.0     -1.0   -0.593      0.7    1.000    1.000   \n",
       "3        6     -1.0     -1.0     -1.0   -1.000     -1.0   -1.000   -1.000   \n",
       "4        6     -1.0     -1.0     -1.0   -1.000     -1.0   -1.000   -1.000   \n",
       "\n",
       "   Column9  Column10    ...      Column248  Column249  Column250  Column251  \\\n",
       "0    0.148     0.384    ...         -1.000     -0.908      0.430      0.622   \n",
       "1   -1.000    -1.000    ...         -1.000     -1.000     -1.000     -1.000   \n",
       "2    1.000     1.000    ...          1.000      0.717      0.333      0.162   \n",
       "3   -1.000    -1.000    ...         -1.000     -1.000     -1.000     -1.000   \n",
       "4   -0.858    -0.106    ...          0.901      0.901      0.901      0.290   \n",
       "\n",
       "   Column252  Column253  Column254  Column255  Column256  Column257  \n",
       "0     -0.973     -1.000       -1.0       -1.0       -1.0       -1.0  \n",
       "1     -1.000     -1.000       -1.0       -1.0       -1.0       -1.0  \n",
       "2     -0.393     -1.000       -1.0       -1.0       -1.0       -1.0  \n",
       "3     -1.000     -1.000       -1.0       -1.0       -1.0       -1.0  \n",
       "4     -0.369     -0.867       -1.0       -1.0       -1.0       -1.0  \n",
       "\n",
       "[5 rows x 257 columns]"
      ]
     },
     "execution_count": 2,
     "metadata": {},
     "output_type": "execute_result"
    }
   ],
   "source": [
    "dftest = pd.read_csv('/Users/holliknight/Desktop/Spring 2019 Classes/STATS 760/DigitsDataset_test.csv')\n",
    "dftest.head()"
   ]
  },
  {
   "cell_type": "code",
   "execution_count": 3,
   "metadata": {},
   "outputs": [],
   "source": [
    "train_Zeros = dftrain.loc[dftrain['Column1'] == 0, :]\n",
    "train_Ones = dftrain.loc[dftrain['Column1'] == 1, :]\n",
    "train_Twos = dftrain.loc[dftrain['Column1'] == 2, :]\n",
    "train_Threes = dftrain.loc[dftrain['Column1'] == 3, :]\n",
    "train_Fours = dftrain.loc[dftrain['Column1'] == 4, :]\n",
    "train_Fives = dftrain.loc[dftrain['Column1'] == 5, :]\n",
    "train_Sixes = dftrain.loc[dftrain['Column1'] == 6, :]\n",
    "train_Sevens = dftrain.loc[dftrain['Column1'] == 7, :]\n",
    "train_Eights = dftrain.loc[dftrain['Column1'] == 8, :]\n",
    "train_Nines = dftrain.loc[dftrain['Column1'] == 9, :]\n",
    "\n",
    "test_Zeros = dftest.loc[dftest['Column1'] == 0, :]\n",
    "test_Ones = dftest.loc[dftest['Column1'] == 1, :]\n",
    "test_Twos = dftest.loc[dftest['Column1'] == 2, :]\n",
    "test_Threes = dftest.loc[dftest['Column1'] == 3, :]\n",
    "test_Fours = dftest.loc[dftest['Column1'] == 4, :]\n",
    "test_Fives = dftest.loc[dftest['Column1'] == 5, :]\n",
    "test_Sixes = dftest.loc[dftest['Column1'] == 6, :]\n",
    "test_Sevens = dftest.loc[dftest['Column1'] == 7, :]\n",
    "test_Eights = dftest.loc[dftest['Column1'] == 8, :]\n",
    "test_Nines = dftest.loc[dftest['Column1'] == 9, :]\n",
    "\n"
   ]
  },
  {
   "cell_type": "code",
   "execution_count": 4,
   "metadata": {},
   "outputs": [],
   "source": [
    "X_train = train_Zeros.drop(columns=['Column1'])\n",
    "y_train = train_Zeros['Column1']\n",
    "X_test = test_Zeros.drop(columns=['Column1'])\n",
    "y_test = test_Zeros['Column1']"
   ]
  },
  {
   "cell_type": "code",
   "execution_count": 5,
   "metadata": {
    "scrolled": true
   },
   "outputs": [
    {
     "data": {
      "text/plain": [
       "(1194, 256)"
      ]
     },
     "execution_count": 5,
     "metadata": {},
     "output_type": "execute_result"
    }
   ],
   "source": [
    "X_train.shape"
   ]
  },
  {
   "cell_type": "code",
   "execution_count": 6,
   "metadata": {},
   "outputs": [
    {
     "data": {
      "text/plain": [
       "(1194,)"
      ]
     },
     "execution_count": 6,
     "metadata": {},
     "output_type": "execute_result"
    }
   ],
   "source": [
    "y_train.shape"
   ]
  },
  {
   "cell_type": "code",
   "execution_count": 9,
   "metadata": {},
   "outputs": [],
   "source": [
    "from sklearn.preprocessing import StandardScaler\n",
    "import numpy as np\n",
    "def get_normed_mean_cov(X):\n",
    "    X_std = StandardScaler().fit_transform(X)\n",
    "    X_mean = np.mean(X_std, axis=0)\n",
    "    \n",
    "    ## Automatic:\n",
    "    #X_cov = np.cov(X_std.T)\n",
    "    \n",
    "    # Manual:\n",
    "    X_cov = (X_std - X_mean).T.dot((X_std - X_mean)) / (X_std.shape[0]-1)\n",
    "    \n",
    "    return X_std, X_mean, X_cov\n",
    "\n",
    "X_std, X_mean, X_cov = get_normed_mean_cov(X_train)"
   ]
  },
  {
   "cell_type": "code",
   "execution_count": 11,
   "metadata": {},
   "outputs": [],
   "source": [
    "from sklearn.decomposition import PCA\n",
    "import seaborn as sns\n",
    "\n",
    "sklearn_pca = PCA(n_components=3).fit(X_std)"
   ]
  },
  {
   "cell_type": "code",
   "execution_count": 12,
   "metadata": {},
   "outputs": [
    {
     "name": "stdout",
     "output_type": "stream",
     "text": [
      "(3, 256)\n"
     ]
    }
   ],
   "source": [
    "print(sklearn_pca.components_.shape)"
   ]
  },
  {
   "cell_type": "code",
   "execution_count": 14,
   "metadata": {
    "scrolled": false
   },
   "outputs": [
    {
     "data": {
      "image/png": "[encoded data removed]",
      "text/plain": [
       "<Figure size 720x576 with 6 Axes>"
      ]
     },
     "metadata": {
      "needs_background": "light"
     },
     "output_type": "display_data"
    }
   ],
   "source": [
    "import matplotlib.pyplot as plt\n",
    "fig = plt.figure(figsize=(10,8))\n",
    "axes = [fig.add_subplot(220+i+1) for i in range(3)]\n",
    "\n",
    "for i,ax in enumerate(axes):\n",
    "    sns.heatmap(sklearn_pca.components_[i].reshape(16,16), \n",
    "                square=True, ax=ax, \n",
    "                vmax = 0.30, vmin=-0.30)\n",
    "    ax.set_title('Principal Component '+str(i))\n",
    "    \n",
    "plt.show()"
   ]
  },
  {
   "cell_type": "code",
   "execution_count": 15,
   "metadata": {},
   "outputs": [
    {
     "name": "stdout",
     "output_type": "stream",
     "text": [
      "Eigenvals shape: (256,)\n",
      "Eigenvecs shape: (256, 256)\n"
     ]
    }
   ],
   "source": [
    "eigenvals, eigenvecs = np.linalg.eig(X_cov)\n",
    "\n",
    "# Eigenvalues are not necessarily sorted, but eigenval[i] *does* correspond to eigenvec[i]\n",
    "\n",
    "print(\"Eigenvals shape: \" + str(eigenvals.shape))\n",
    "print(\"Eigenvecs shape: \" + str(eigenvecs.shape))"
   ]
  },
  {
   "cell_type": "code",
   "execution_count": 16,
   "metadata": {},
   "outputs": [],
   "source": [
    "# Create a tuple of (eigenvalues, eigenvectors)\n",
    "unsrt_eigenvalvec = [(np.abs(eigenvals[i]), eigenvecs[:,i]) for i in range(len(eigenvals))]\n",
    "\n",
    "# Sort tuple by eigenvalues\n",
    "eigenvalvec = sorted(unsrt_eigenvalvec, reverse=True, key=lambda x:x[0])\n",
    "\n",
    "#pprint([pair for pair in eigenvalvec])"
   ]
  },
  {
   "cell_type": "code",
   "execution_count": 17,
   "metadata": {},
   "outputs": [
    {
     "name": "stdout",
     "output_type": "stream",
     "text": [
      "(256, 4)\n"
     ]
    }
   ],
   "source": [
    "matW = np.hstack( pair[1].reshape(256,1) for pair in eigenvalvec[0:4] )\n",
    "print(matW.shape)"
   ]
  },
  {
   "cell_type": "code",
   "execution_count": 18,
   "metadata": {},
   "outputs": [
    {
     "data": {
      "text/plain": [
       "Text(0.5,1,'Original Image')"
      ]
     },
     "execution_count": 18,
     "metadata": {},
     "output_type": "execute_result"
    },
    {
     "data": {
      "image/png": "[encoded data removed]",
      "text/plain": [
       "<Figure size 720x432 with 4 Axes>"
      ]
     },
     "metadata": {
      "needs_background": "light"
     },
     "output_type": "display_data"
    }
   ],
   "source": [
    "X_digit1 = X_std[0]\n",
    "Z_digit1 = X_digit1.dot(matW)\n",
    "Xhat_digit1 = Z_digit1.dot(matW.T)\n",
    "\n",
    "fig = plt.figure(figsize=(10,6))\n",
    "\n",
    "ax1, ax2, ax3, ax4 = (fig.add_subplot(221+i) for i in range(4))\n",
    "\n",
    "\n",
    "ax1.imshow(X_digit1.reshape(16,16))\n",
    "ax1.set_title('Original Image')\n"
   ]
  },
  {
   "cell_type": "code",
   "execution_count": 22,
   "metadata": {},
   "outputs": [
    {
     "data": {
      "text/plain": [
       "(1005, 256)"
      ]
     },
     "execution_count": 22,
     "metadata": {},
     "output_type": "execute_result"
    }
   ],
   "source": [
    "X_train = train_Ones.drop(columns=['Column1'])\n",
    "y_train = train_Ones['Column1']\n",
    "X_test = test_Ones.drop(columns=['Column1'])\n",
    "y_test = test_Ones['Column1']\n",
    "\n",
    "X_train.shape\n"
   ]
  },
  {
   "cell_type": "code",
   "execution_count": 34,
   "metadata": {},
   "outputs": [
    {
     "data": {
      "image/png": "[encoded data removed]",
      "text/plain": [
       "<Figure size 720x576 with 6 Axes>"
      ]
     },
     "metadata": {
      "needs_background": "light"
     },
     "output_type": "display_data"
    }
   ],
   "source": [
    "def get_normed_mean_cov(X):\n",
    "    X_std = StandardScaler().fit_transform(X)\n",
    "    X_mean = np.mean(X_std, axis=0)\n",
    "    X_cov = (X_std - X_mean).T.dot((X_std - X_mean)) / (X_std.shape[0]-1)\n",
    "    return X_std, X_mean, X_cov\n",
    "\n",
    "X_std, X_mean, X_cov = get_normed_mean_cov(X_train)\n",
    "\n",
    "import matplotlib.pyplot as plt\n",
    "fig = plt.figure(figsize=(10,8))\n",
    "axes = [fig.add_subplot(220+i+1) for i in range(3)]\n",
    "\n",
    "for i,ax in enumerate(axes):\n",
    "    sns.heatmap(sklearn_pca.components_[i].reshape(16,16), \n",
    "                square=True, ax=ax, \n",
    "                vmax = 0.30, vmin=-0.30)\n",
    "    ax.set_title('Principal Component '+str(i))\n",
    "    \n",
    "plt.show()"
   ]
  },
  {
   "cell_type": "code",
   "execution_count": 33,
   "metadata": {},
   "outputs": [
    {
     "data": {
      "text/plain": [
       "Text(0.5,1,'Original Image')"
      ]
     },
     "execution_count": 33,
     "metadata": {},
     "output_type": "execute_result"
    },
    {
     "data": {
      "image/png": "[encoded data removed]",
      "text/plain": [
       "<Figure size 720x432 with 4 Axes>"
      ]
     },
     "metadata": {
      "needs_background": "light"
     },
     "output_type": "display_data"
    }
   ],
   "source": [
    "X_digit1 = X_std[0]\n",
    "Z_digit1 = X_digit1.dot(matW)\n",
    "Xhat_digit1 = Z_digit1.dot(matW.T)\n",
    "\n",
    "fig = plt.figure(figsize=(10,6))\n",
    "\n",
    "ax1, ax2, ax3, ax4 = (fig.add_subplot(221+i) for i in range(4))\n",
    "\n",
    "\n",
    "ax1.imshow(X_digit1.reshape(16,16))\n",
    "ax1.set_title('Original Image')"
   ]
  },
  {
   "cell_type": "code",
   "execution_count": 70,
   "metadata": {},
   "outputs": [
    {
     "data": {
      "text/plain": [
       "(731, 256)"
      ]
     },
     "execution_count": 70,
     "metadata": {},
     "output_type": "execute_result"
    }
   ],
   "source": [
    "X_train = train_Twos.drop(columns=['Column1'])\n",
    "y_train = train_Twos['Column1']\n",
    "X_test = test_Twos.drop(columns=['Column1'])\n",
    "y_test = test_Twos['Column1']\n",
    "\n",
    "X_train.shape"
   ]
  },
  {
   "cell_type": "code",
   "execution_count": 71,
   "metadata": {},
   "outputs": [],
   "source": [
    "from sklearn.decomposition import PCA\n",
    "import seaborn as sns\n",
    "\n",
    "sklearn_pca = PCA(n_components=3).fit(X_std)"
   ]
  },
  {
   "cell_type": "code",
   "execution_count": 72,
   "metadata": {},
   "outputs": [
    {
     "name": "stdout",
     "output_type": "stream",
     "text": [
      "(256, 4)\n"
     ]
    }
   ],
   "source": [
    "eigenvals, eigenvecs = np.linalg.eig(X_cov)\n",
    "\n",
    "# Create a tuple of (eigenvalues, eigenvectors)\n",
    "unsrt_eigenvalvec = [(np.abs(eigenvals[i]), eigenvecs[:,i]) for i in range(len(eigenvals))]\n",
    "\n",
    "# Sort tuple by eigenvalues\n",
    "eigenvalvec = sorted(unsrt_eigenvalvec, reverse=True, key=lambda x:x[0])\n",
    "\n",
    "matW = np.hstack( pair[1].reshape(256,1) for pair in eigenvalvec[0:4] )\n",
    "print(matW.shape)"
   ]
  },
  {
   "cell_type": "code",
   "execution_count": 73,
   "metadata": {},
   "outputs": [],
   "source": [
    "def get_normed_mean_cov(X):\n",
    "    X_std = StandardScaler().fit_transform(X)\n",
    "    X_mean = np.mean(X_std, axis=0)\n",
    "    X_cov = (X_std - X_mean).T.dot((X_std - X_mean)) / (X_std.shape[0]-1)\n",
    "    return X_std, X_mean, X_cov\n",
    "\n",
    "X_std, X_mean, X_cov = get_normed_mean_cov(X_train)\n",
    "\n"
   ]
  },
  {
   "cell_type": "code",
   "execution_count": 74,
   "metadata": {},
   "outputs": [
    {
     "data": {
      "image/png": "[encoded data removed]",
      "text/plain": [
       "<Figure size 720x432 with 6 Axes>"
      ]
     },
     "metadata": {
      "needs_background": "light"
     },
     "output_type": "display_data"
    }
   ],
   "source": [
    "import matplotlib.pyplot as plt\n",
    "fig = plt.figure(figsize=(10,6))\n",
    "axes = [fig.add_subplot(220+i+1) for i in range(3)]\n",
    "\n",
    "for i,ax in enumerate(axes):\n",
    "    sns.heatmap(sklearn_pca.components_[i].reshape(16,16), \n",
    "                square=True, ax=ax, \n",
    "                vmax = 0.30, vmin=-0.30)\n",
    "    ax.set_title('Principal Component '+str(i))\n",
    "    \n",
    "plt.show()"
   ]
  },
  {
   "cell_type": "code",
   "execution_count": 75,
   "metadata": {},
   "outputs": [
    {
     "data": {
      "text/plain": [
       "Text(0.5,1,'Image Average - 2')"
      ]
     },
     "execution_count": 75,
     "metadata": {},
     "output_type": "execute_result"
    },
    {
     "data": {
      "image/png": "[encoded data removed]",
      "text/plain": [
       "<Figure size 720x432 with 4 Axes>"
      ]
     },
     "metadata": {
      "needs_background": "light"
     },
     "output_type": "display_data"
    }
   ],
   "source": [
    "X_digit1 = X_std[0]\n",
    "Z_digit1 = X_digit1.dot(matW)\n",
    "Xhat_digit1 = Z_digit1.dot(matW.T)\n",
    "\n",
    "fig = plt.figure(figsize=(10,6))\n",
    "\n",
    "ax1, ax2, ax3, ax4 = (fig.add_subplot(221+i) for i in range(4))\n",
    "\n",
    "\n",
    "ax1.imshow(X_digit1.reshape(16,16))\n",
    "ax1.set_title('Image Average - 2')"
   ]
  },
  {
   "cell_type": "code",
   "execution_count": 52,
   "metadata": {},
   "outputs": [
    {
     "name": "stdout",
     "output_type": "stream",
     "text": [
      "(256, 4)\n"
     ]
    }
   ],
   "source": [
    "X_train = train_Threes.drop(columns=['Column1'])\n",
    "y_train = train_Threes['Column1']\n",
    "X_test = test_Threes.drop(columns=['Column1'])\n",
    "y_test = test_Threes['Column1']\n",
    "\n",
    "from sklearn.decomposition import PCA\n",
    "import seaborn as sns\n",
    "\n",
    "sklearn_pca = PCA(n_components=3).fit(X_std)\n",
    "\n",
    "X_std, X_mean, X_cov = get_normed_mean_cov(X_train)\n",
    "\n",
    "eigenvals, eigenvecs = np.linalg.eig(X_cov)\n",
    "\n",
    "# Create a tuple of (eigenvalues, eigenvectors)\n",
    "unsrt_eigenvalvec = [(np.abs(eigenvals[i]), eigenvecs[:,i]) for i in range(len(eigenvals))]\n",
    "\n",
    "# Sort tuple by eigenvalues\n",
    "eigenvalvec = sorted(unsrt_eigenvalvec, reverse=True, key=lambda x:x[0])\n",
    "\n",
    "matW = np.hstack( pair[1].reshape(256,1) for pair in eigenvalvec[0:4] )\n",
    "print(matW.shape)"
   ]
  },
  {
   "cell_type": "code",
   "execution_count": 53,
   "metadata": {},
   "outputs": [
    {
     "data": {
      "image/png": "[encoded data removed]",
      "text/plain": [
       "<Figure size 720x432 with 6 Axes>"
      ]
     },
     "metadata": {
      "needs_background": "light"
     },
     "output_type": "display_data"
    }
   ],
   "source": [
    "import matplotlib.pyplot as plt\n",
    "fig = plt.figure(figsize=(10,6))\n",
    "axes = [fig.add_subplot(220+i+1) for i in range(3)]\n",
    "\n",
    "for i,ax in enumerate(axes):\n",
    "    sns.heatmap(sklearn_pca.components_[i].reshape(16,16), \n",
    "                square=True, ax=ax, \n",
    "                vmax = 0.30, vmin=-0.30)\n",
    "    ax.set_title('Principal Component '+str(i))\n",
    "    \n",
    "plt.show()"
   ]
  },
  {
   "cell_type": "code",
   "execution_count": 59,
   "metadata": {},
   "outputs": [
    {
     "data": {
      "text/plain": [
       "Text(0.5,1,'Original Image')"
      ]
     },
     "execution_count": 59,
     "metadata": {},
     "output_type": "execute_result"
    },
    {
     "data": {
      "image/png": "[encoded data removed]",
      "text/plain": [
       "<Figure size 720x432 with 4 Axes>"
      ]
     },
     "metadata": {
      "needs_background": "light"
     },
     "output_type": "display_data"
    }
   ],
   "source": [
    "X_digit1 = X_std[0]\n",
    "Z_digit1 = X_digit1.dot(matW)\n",
    "Xhat_digit1 = Z_digit1.dot(matW.T)\n",
    "\n",
    "fig = plt.figure(figsize=(10,6))\n",
    "\n",
    "ax1, ax2, ax3, ax4 = (fig.add_subplot(221+i) for i in range(4))\n",
    "\n",
    "\n",
    "ax1.imshow(X_digit1.reshape(16,16))\n",
    "ax1.set_title('Original Image')"
   ]
  },
  {
   "cell_type": "code",
   "execution_count": null,
   "metadata": {},
   "outputs": [],
   "source": []
  }
 ],
 "metadata": {
  "kernelspec": {
   "display_name": "Python 3",
   "language": "python",
   "name": "python3"
  },
  "language_info": {
   "codemirror_mode": {
    "name": "ipython",
    "version": 3
   },
   "file_extension": ".py",
   "mimetype": "text/x-python",
   "name": "python",
   "nbconvert_exporter": "python",
   "pygments_lexer": "ipython3",
   "version": "3.7.2"
  }
 },
 "nbformat": 4,
 "nbformat_minor": 2
}
