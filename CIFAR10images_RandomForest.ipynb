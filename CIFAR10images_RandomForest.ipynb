{
 "cells": [
  {
   "cell_type": "markdown",
   "metadata": {},
   "source": [
    "Holli Knight\n",
    "STAT 760\n",
    "\n",
    "CIFAR10_RandomForest"
   ]
  },
  {
   "cell_type": "code",
   "execution_count": null,
   "metadata": {},
   "outputs": [],
   "source": [
    "import re\n",
    "import matplotlib.pyplot as plt\n",
    "import pandas as pd\n",
    "import pickle\n",
    "import numpy as np\n",
    "\n",
    "def unpickle(file):\n",
    "    with open(file, 'rb') as fo:\n",
    "        dict1 = pickle.load(fo, encoding='bytes')\n",
    "    return dict1\n",
    " \n",
    "X = pd.DataFrame()\n",
    "y = pd.DataFrame()\n",
    " \n",
    "for i in range(1,6):\n",
    "    data = unpickle('/Users/holliknight/Downloads/cifar-10-batches-py-1/data_batch_' + str(i))\n",
    "    X = X.append(pd.DataFrame(data[b'data']))\n",
    "    y = y.append(pd.DataFrame(data[b'labels']))\n",
    "    X['labels'] = y\n",
    "\n",
    "X_train = np.asarray(X.iloc[:, :3072])\n",
    "y_train = np.asarray(X['labels'])\n",
    "X_test = np.asarray(unpickle('/Users/holliknight/Downloads/cifar-10-batches-py-1/test_batch')[b'data'])\n",
    "y_test = np.asarray(unpickle('/Users/holliknight/Downloads/cifar-10-batches-py-1/test_batch')[b'labels'])    \n",
    "labels = unpickle('/Users/holliknight/Downloads/cifar-10-batches-py-1/batches.meta')[b'label_names']"
   ]
  },
  {
   "cell_type": "code",
   "execution_count": 35,
   "metadata": {},
   "outputs": [
    {
     "data": {
      "text/plain": [
       "RandomForestClassifier(bootstrap=True, class_weight=None, criterion='gini',\n",
       "            max_depth=500, max_features='auto', max_leaf_nodes=None,\n",
       "            min_impurity_decrease=0.0, min_impurity_split=None,\n",
       "            min_samples_leaf=1, min_samples_split=2,\n",
       "            min_weight_fraction_leaf=0.0, n_estimators=500, n_jobs=1,\n",
       "            oob_score=False, random_state=9, verbose=0, warm_start=False)"
      ]
     },
     "execution_count": 35,
     "metadata": {},
     "output_type": "execute_result"
    }
   ],
   "source": [
    "from sklearn.ensemble import RandomForestClassifier\n",
    "\n",
    "clf = RandomForestClassifier(n_estimators=500, max_depth=500, random_state=9)\n",
    "clf.fit(X_train, y_train) \n"
   ]
  },
  {
   "cell_type": "code",
   "execution_count": 36,
   "metadata": {},
   "outputs": [],
   "source": [
    "predicted = clf.predict(X_test)\n",
    "actual = y_test"
   ]
  },
  {
   "cell_type": "code",
   "execution_count": 37,
   "metadata": {},
   "outputs": [
    {
     "data": {
      "text/plain": [
       "0.4888"
      ]
     },
     "execution_count": 37,
     "metadata": {},
     "output_type": "execute_result"
    }
   ],
   "source": [
    "clf.score(X_test, y_test)"
   ]
  },
  {
   "cell_type": "code",
   "execution_count": 38,
   "metadata": {},
   "outputs": [],
   "source": [
    "from sklearn.metrics import classification_report "
   ]
  },
  {
   "cell_type": "code",
   "execution_count": 39,
   "metadata": {},
   "outputs": [],
   "source": [
    "results = classification_report(actual, predicted) "
   ]
  },
  {
   "cell_type": "code",
   "execution_count": 40,
   "metadata": {},
   "outputs": [
    {
     "name": "stdout",
     "output_type": "stream",
     "text": [
      "             precision    recall  f1-score   support\n",
      "\n",
      "          0       0.56      0.56      0.56      1000\n",
      "          1       0.54      0.56      0.55      1000\n",
      "          2       0.42      0.35      0.39      1000\n",
      "          3       0.36      0.27      0.31      1000\n",
      "          4       0.43      0.40      0.41      1000\n",
      "          5       0.45      0.42      0.44      1000\n",
      "          6       0.48      0.61      0.54      1000\n",
      "          7       0.51      0.48      0.50      1000\n",
      "          8       0.59      0.64      0.61      1000\n",
      "          9       0.48      0.58      0.53      1000\n",
      "\n",
      "avg / total       0.48      0.49      0.48     10000\n",
      "\n"
     ]
    }
   ],
   "source": [
    "print(results)"
   ]
  },
  {
   "cell_type": "code",
   "execution_count": null,
   "metadata": {},
   "outputs": [],
   "source": []
  }
 ],
 "metadata": {
  "kernelspec": {
   "display_name": "Python 3",
   "language": "python",
   "name": "python3"
  },
  "language_info": {
   "codemirror_mode": {
    "name": "ipython",
    "version": 3
   },
   "file_extension": ".py",
   "mimetype": "text/x-python",
   "name": "python",
   "nbconvert_exporter": "python",
   "pygments_lexer": "ipython3",
   "version": "3.7.2"
  }
 },
 "nbformat": 4,
 "nbformat_minor": 2
}
