{
 "cells": [
  {
   "cell_type": "markdown",
   "metadata": {},
   "source": [
    "Holli Knight\n",
    "STAT 760\n",
    "\n",
    "CIFAR10_NeuralNetwork"
   ]
  },
  {
   "cell_type": "code",
   "execution_count": null,
   "metadata": {},
   "outputs": [],
   "source": [
    "from torchvision.datasets import CIFAR10\n",
    "df = CIFAR10('data', train=True, download=True, transform=_tasks)"
   ]
  },
  {
   "cell_type": "code",
   "execution_count": 102,
   "metadata": {},
   "outputs": [],
   "source": [
    "from torchvision import transforms\n",
    "import torch.nn.functional as F\n",
    "from torch.utils.data import DataLoader\n",
    "from torch.utils.data.sampler import SubsetRandomSampler\n",
    "import torch \n",
    "import torch.nn as nn\n",
    "\n",
    "## create training and validation split \n",
    "split = int(0.8 * len(df))\n",
    "index_list = list(range(len(df)))\n",
    "X_train, X_test = index_list[:split], index_list[split:]\n",
    "\n",
    "## create training and validation sampler objects\n",
    "tr_sampler = SubsetRandomSampler(X_train)\n",
    "val_sampler = SubsetRandomSampler(X_test)\n",
    "\n",
    "## create iterator objects for train and valid datasets\n",
    "trainloader = DataLoader(df, batch_size=256, sampler=tr_sampler)\n",
    "validloader = DataLoader(df, batch_size=256, sampler=val_sampler)"
   ]
  },
  {
   "cell_type": "code",
   "execution_count": 103,
   "metadata": {},
   "outputs": [],
   "source": [
    "class Model(nn.Module):\n",
    "    def __init__(self):\n",
    "        super(Model, self).__init__()\n",
    "        \n",
    "        self.conv1 = nn.Conv2d(3, 16, 3, padding=1)\n",
    "        self.conv2 = nn.Conv2d(16, 32, 3, padding=1)\n",
    "        self.conv3 = nn.Conv2d(32, 64, 3, padding=1)\n",
    "        self.pool = nn.MaxPool2d(2, 2)\n",
    "        self.linear1 = nn.Linear(1024, 512)\n",
    "        self.linear2 = nn.Linear(512, 10)\n",
    "    \n",
    "    def forward(self, x):\n",
    "        x = self.pool(F.relu(self.conv1(x)))\n",
    "        x = self.pool(F.relu(self.conv2(x)))\n",
    "        x = self.pool(F.relu(self.conv3(x)))\n",
    "        x = x.view(-1, 1024) \n",
    "        x = F.relu(self.linear1(x))\n",
    "        x = self.linear2(x)\n",
    "        return x\n",
    "\n",
    "model = Model()"
   ]
  },
  {
   "cell_type": "code",
   "execution_count": 138,
   "metadata": {},
   "outputs": [],
   "source": [
    "import torch.optim as optim\n",
    "loss_function = nn.CrossEntropyLoss()\n",
    "optimizer = optim.SGD(model.parameters(), lr=0.01, weight_decay= 1e-7, momentum = 0.7, nesterov = True)"
   ]
  },
  {
   "cell_type": "code",
   "execution_count": 139,
   "metadata": {},
   "outputs": [],
   "source": [
    "for epoch in range(1, 9999):\n",
    "    train_loss, valid_loss = [], []"
   ]
  },
  {
   "cell_type": "code",
   "execution_count": 140,
   "metadata": {},
   "outputs": [],
   "source": [
    "model.train()\n",
    "for data, target in trainloader:\n",
    "    optimizer.zero_grad()\n",
    "    output = model(data)\n",
    "    loss = loss_function(output, target)\n",
    "    loss.backward()\n",
    "    optimizer.step()\n",
    "    train_loss.append(loss.item()) \n",
    "        \n",
    "\n",
    "model.eval()\n",
    "for data, target in validloader:\n",
    "    output = model(data)\n",
    "    loss = loss_function(output, target)\n",
    "    valid_loss.append(loss.item())"
   ]
  },
  {
   "cell_type": "code",
   "execution_count": 141,
   "metadata": {},
   "outputs": [],
   "source": [
    "dataiter = iter(validloader)\n",
    "data, labels = dataiter.next()\n",
    "output = model(data)"
   ]
  },
  {
   "cell_type": "code",
   "execution_count": 142,
   "metadata": {},
   "outputs": [],
   "source": [
    "import numpy as np\n",
    "\n",
    "_, preds_tensor = torch.max(output, 1)\n",
    "preds = np.squeeze(preds_tensor.numpy())"
   ]
  },
  {
   "cell_type": "code",
   "execution_count": 143,
   "metadata": {},
   "outputs": [
    {
     "name": "stdout",
     "output_type": "stream",
     "text": [
      "Actual: tensor([2, 9, 3, 2, 2, 0, 0, 4, 5, 8])\n",
      "Predicted: [2 9 8 6 7 0 2 9 6 8]\n"
     ]
    }
   ],
   "source": [
    "print (\"Actual:\", labels[:10])\n",
    "print (\"Predicted:\", preds[:10])"
   ]
  },
  {
   "cell_type": "code",
   "execution_count": 144,
   "metadata": {
    "scrolled": true
   },
   "outputs": [
    {
     "name": "stdout",
     "output_type": "stream",
     "text": [
      "             precision    recall  f1-score   support\n",
      "\n",
      "          0       0.71      0.65      0.68        31\n",
      "          1       0.53      0.41      0.46        22\n",
      "          2       0.38      0.20      0.26        30\n",
      "          3       0.67      0.10      0.17        20\n",
      "          4       0.50      0.28      0.36        25\n",
      "          5       0.75      0.09      0.15        35\n",
      "          6       0.35      0.71      0.47        24\n",
      "          7       0.32      0.81      0.46        26\n",
      "          8       0.44      0.64      0.52        28\n",
      "          9       0.30      0.40      0.34        15\n",
      "\n",
      "avg / total       0.51      0.43      0.39       256\n",
      "\n"
     ]
    }
   ],
   "source": [
    "from sklearn.metrics import classification_report \n",
    "results = classification_report(labels, preds) \n",
    "print(results)"
   ]
  },
  {
   "cell_type": "code",
   "execution_count": null,
   "metadata": {},
   "outputs": [],
   "source": []
  }
 ],
 "metadata": {
  "kernelspec": {
   "display_name": "Python 3",
   "language": "python",
   "name": "python3"
  },
  "language_info": {
   "codemirror_mode": {
    "name": "ipython",
    "version": 3
   },
   "file_extension": ".py",
   "mimetype": "text/x-python",
   "name": "python",
   "nbconvert_exporter": "python",
   "pygments_lexer": "ipython3",
   "version": "3.7.2"
  }
 },
 "nbformat": 4,
 "nbformat_minor": 2
}
